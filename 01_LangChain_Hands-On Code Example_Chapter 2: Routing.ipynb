{
 "cells": [
  {
   "cell_type": "markdown",
   "id": "7364143e",
   "metadata": {},
   "source": [
    "# Chapter 2: Routing"
   ]
  },
  {
   "cell_type": "markdown",
   "id": "36725f11",
   "metadata": {
    "vscode": {
     "languageId": "plaintext"
    }
   },
   "source": [
    "## Hands-On Code Example (LangChain)"
   ]
  },
  {
   "cell_type": "markdown",
   "id": "5a428add",
   "metadata": {},
   "source": [
    "> Adapted and modified from https://docs.google.com/document/d/1ux_n8n3T4bYndOjs1DKW5ccpC802KISdy2IWnlvYbas/edit?tab=t.0\n",
    "> \n",
    "> Fr 12 Sep 2025 16:36:24 BST"
   ]
  },
  {
   "cell_type": "markdown",
   "id": "9c322293",
   "metadata": {},
   "source": [
    "Implementing routing in code involves defining the possible paths and the logic that decides which path to take. Frameworks like LangChain and LangGraph provide specific components and structures for this. LangGraph's state-based graph structure is particularly intuitive for visualizing and implementing routing logic.\n",
    "\n",
    "This code demonstrates a simple agent-like system using LangChain and Google's Generative AI. It sets up a \"coordinator\" that routes user requests to different simulated \"sub-agent\" handlers based on the request's intent (booking, information, or unclear). The system uses a language model to classify the request and then delegates it to the appropriate handler function, simulating a basic delegation pattern often seen in multi-agent architectures.\n",
    "\n",
    "First, ensure you have the necessary libraries installed:\n"
   ]
  },
  {
   "cell_type": "markdown",
   "id": "13176a13",
   "metadata": {},
   "source": [
    "`pip install langchain langgraph google-cloud-aiplatform langchain-google-genai google-adk deprecated pydantic`"
   ]
  },
  {
   "cell_type": "code",
   "execution_count": 1,
   "id": "e5e0f7af",
   "metadata": {},
   "outputs": [
    {
     "data": {
      "text/plain": [
       "True"
      ]
     },
     "execution_count": 1,
     "metadata": {},
     "output_type": "execute_result"
    }
   ],
   "source": [
    "# Copyright (c) 2025 Marco Fago\n",
    "# https://www.linkedin.com/in/marco-fago/\n",
    "#\n",
    "# This code is licensed under the MIT License.\n",
    "# See the LICENSE file in the repository for the full license text.\n",
    "\n",
    "from langchain_google_genai import ChatGoogleGenerativeAI\n",
    "from langchain_core.prompts import ChatPromptTemplate\n",
    "from langchain_core.output_parsers import StrOutputParser\n",
    "from langchain_core.runnables import RunnablePassthrough, RunnableBranch\n",
    "\n",
    "from dotenv import load_dotenv\n",
    "load_dotenv()"
   ]
  },
  {
   "cell_type": "code",
   "execution_count": 2,
   "id": "424484c4",
   "metadata": {},
   "outputs": [
    {
     "name": "stdout",
     "output_type": "stream",
     "text": [
      "Language model initialized: models/gemini-2.5-flash\n"
     ]
    }
   ],
   "source": [
    "# --- Configuration ---\n",
    "# Ensure your API key environment variable is set (e.g., GOOGLE_API_KEY)\n",
    "try:\n",
    "   llm = ChatGoogleGenerativeAI(model=\"gemini-2.5-flash\", \n",
    "temperature=0)\n",
    "   print(f\"Language model initialized: {llm.model}\")\n",
    "except Exception as e:\n",
    "   print(f\"Error initializing language model: {e}\")\n",
    "   llm = None"
   ]
  },
  {
   "cell_type": "code",
   "execution_count": 3,
   "id": "97d68efb",
   "metadata": {},
   "outputs": [],
   "source": [
    "# --- Define Simulated Sub-Agent Handlers (equivalent to ADK sub_agents) ---\n",
    "\n",
    "def booking_handler(request: str) -> str:\n",
    "   \"\"\"Simulates the Booking Agent handling a request.\"\"\"\n",
    "   print(\"\\n--- DELEGATING TO BOOKING HANDLER ---\")\n",
    "   return f\"Booking Handler processed request: '{request}'. Result: Simulated booking action.\"\n",
    "\n",
    "def info_handler(request: str) -> str:\n",
    "   \"\"\"Simulates the Info Agent handling a request.\"\"\"\n",
    "   print(\"\\n--- DELEGATING TO INFO HANDLER ---\")\n",
    "   return f\"Info Handler processed request: '{request}'. Result: Simulated information retrieval.\"\n",
    "\n",
    "def unclear_handler(request: str) -> str:\n",
    "   \"\"\"Handles requests that couldn't be delegated.\"\"\"\n",
    "   print(\"\\n--- HANDLING UNCLEAR REQUEST ---\")\n",
    "   return f\"Coordinator could not delegate request: '{request}'. Please clarify.\""
   ]
  },
  {
   "cell_type": "code",
   "execution_count": 4,
   "id": "a1e6987f",
   "metadata": {},
   "outputs": [],
   "source": [
    "# --- Define Coordinator Router Chain (equivalent to ADK coordinator's instruction) ---\n",
    "# This chain decides which handler to delegate to.\n",
    "coordinator_router_prompt = ChatPromptTemplate.from_messages([\n",
    "   (\"system\", \"\"\"Analyze the user's request and determine which specialist handler should process it.\n",
    "    - If the request is related to booking flights or hotels, \n",
    "      output 'booker'.\n",
    "    - For all other general information questions, output 'info'.\n",
    "    - If the request is unclear or doesn't fit either category, \n",
    "      output 'unclear'.\n",
    "    ONLY output one word: 'booker', 'info', or 'unclear'.\"\"\"),\n",
    "   (\"user\", \"{request}\")\n",
    "])\n",
    "\n",
    "if llm:\n",
    "   coordinator_router_chain = coordinator_router_prompt | llm | StrOutputParser()"
   ]
  },
  {
   "cell_type": "code",
   "execution_count": 5,
   "id": "e3138d82",
   "metadata": {},
   "outputs": [],
   "source": [
    "# --- Define the Delegation Logic (equivalent to ADK's Auto-Flow based on sub_agents) ---\n",
    "# Use RunnableBranch to route based on the router chain's output.\n",
    "\n",
    "# Define the branches for the RunnableBranch\n",
    "branches = {\n",
    "   \"booker\": RunnablePassthrough.assign(output=lambda x: booking_handler(x['request']['request'])),\n",
    "   \"info\": RunnablePassthrough.assign(output=lambda x: info_handler(x['request']['request'])),\n",
    "   \"unclear\": RunnablePassthrough.assign(output=lambda x: unclear_handler(x['request']['request'])),\n",
    "}"
   ]
  },
  {
   "cell_type": "code",
   "execution_count": 6,
   "id": "2282c859",
   "metadata": {},
   "outputs": [],
   "source": [
    "# Create the RunnableBranch. It takes the output of the router chain\n",
    "# and routes the original input ('request') to the corresponding handler.\n",
    "delegation_branch = RunnableBranch(\n",
    "   (lambda x: x['decision'].strip() == 'booker', branches[\"booker\"]), # Added .strip()\n",
    "   (lambda x: x['decision'].strip() == 'info', branches[\"info\"]),     # Added .strip()\n",
    "   branches[\"unclear\"] # Default branch for 'unclear' or any other output\n",
    ")"
   ]
  },
  {
   "cell_type": "code",
   "execution_count": 7,
   "id": "8af2490c",
   "metadata": {},
   "outputs": [],
   "source": [
    "# Combine the router chain and the delegation branch into a single runnable\n",
    "# The router chain's output ('decision') is passed along with the original input ('request')\n",
    "# to the delegation_branch.\n",
    "coordinator_agent = {\n",
    "   \"decision\": coordinator_router_chain,\n",
    "   \"request\": RunnablePassthrough()\n",
    "} | delegation_branch | (lambda x: x['output']) # Extract the final output"
   ]
  },
  {
   "cell_type": "code",
   "execution_count": 8,
   "id": "eceac1ae",
   "metadata": {},
   "outputs": [],
   "source": [
    "# --- Example Usage ---\n",
    "def main():\n",
    "   if not llm:\n",
    "       print(\"\\nSkipping execution due to LLM initialization failure.\")\n",
    "       return\n",
    "\n",
    "   print(\"--- Running with a booking request ---\")\n",
    "   request_a = \"Book me a flight to London.\"\n",
    "   result_a = coordinator_agent.invoke({\"request\": request_a})\n",
    "   print(f\"Final Result A: {result_a}\")\n",
    "\n",
    "   print(\"\\n--- Running with an info request ---\")\n",
    "   request_b = \"What is the capital of Italy?\"\n",
    "   result_b = coordinator_agent.invoke({\"request\": request_b})\n",
    "   print(f\"Final Result B: {result_b}\")\n",
    "\n",
    "   print(\"\\n--- Running with an unclear request ---\")\n",
    "   request_c = \"Tell me about quantum physics.\"\n",
    "   result_c = coordinator_agent.invoke({\"request\": request_c})\n",
    "   print(f\"Final Result C: {result_c}\")"
   ]
  },
  {
   "cell_type": "code",
   "execution_count": 9,
   "id": "f5562438",
   "metadata": {},
   "outputs": [
    {
     "name": "stdout",
     "output_type": "stream",
     "text": [
      "--- Running with a booking request ---\n",
      "\n",
      "--- DELEGATING TO BOOKING HANDLER ---\n",
      "Final Result A: Booking Handler processed request: 'Book me a flight to London.'. Result: Simulated booking action.\n",
      "\n",
      "--- Running with an info request ---\n",
      "\n",
      "--- DELEGATING TO INFO HANDLER ---\n",
      "Final Result B: Info Handler processed request: 'What is the capital of Italy?'. Result: Simulated information retrieval.\n",
      "\n",
      "--- Running with an unclear request ---\n",
      "\n",
      "--- DELEGATING TO INFO HANDLER ---\n",
      "Final Result C: Info Handler processed request: 'Tell me about quantum physics.'. Result: Simulated information retrieval.\n"
     ]
    }
   ],
   "source": [
    "if __name__ == \"__main__\":\n",
    "   main()"
   ]
  },
  {
   "cell_type": "markdown",
   "id": "7dcc095e",
   "metadata": {},
   "source": [
    "As mentioned, this Python code constructs a simple agent-like system using the LangChain library and Google's Generative AI model, specifically gemini-2.5-flash. In detail, It defines three simulated sub-agent handlers: booking_handler, info_handler, and unclear_handler, each designed to process specific types of requests. \n",
    "\n",
    "A core component is the coordinator_router_chain, which utilizes a ChatPromptTemplate to instruct the language model to categorize incoming user requests into one of three categories: 'booker', 'info', or 'unclear'. The output of this router chain is then used by a RunnableBranch to delegate the original request to the corresponding handler function. The RunnableBranch checks the decision from the language model and directs the request data to either the booking_handler, info_handler, or unclear_handler. The coordinator_agent combines these components, first routing the request for a decision and then passing the request to the chosen handler. The final output is extracted from the handler's response. \n",
    "\n",
    "The main function demonstrates the system's usage with three example requests, showcasing how different inputs are routed and processed by the simulated agents. Error handling for language model initialization is included to ensure robustness. The code structure mimics a basic multi-agent framework where a central coordinator delegates tasks to specialized agents based on intent.\n"
   ]
  }
 ],
 "metadata": {
  "kernelspec": {
   "display_name": ".venv",
   "language": "python",
   "name": "python3"
  },
  "language_info": {
   "codemirror_mode": {
    "name": "ipython",
    "version": 3
   },
   "file_extension": ".py",
   "mimetype": "text/x-python",
   "name": "python",
   "nbconvert_exporter": "python",
   "pygments_lexer": "ipython3",
   "version": "3.13.5"
  }
 },
 "nbformat": 4,
 "nbformat_minor": 5
}

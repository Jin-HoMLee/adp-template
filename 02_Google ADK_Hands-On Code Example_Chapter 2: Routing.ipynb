{
 "cells": [
  {
   "cell_type": "markdown",
   "id": "7364143e",
   "metadata": {},
   "source": [
    "# Chapter 2: Routing"
   ]
  },
  {
   "cell_type": "markdown",
   "id": "4bcebe1b",
   "metadata": {},
   "source": [
    "## Hands-On Code Example (Google ADK)"
   ]
  },
  {
   "cell_type": "markdown",
   "id": "5a428add",
   "metadata": {},
   "source": [
    "> Adapted and modified from https://docs.google.com/document/d/1ux_n8n3T4bYndOjs1DKW5ccpC802KISdy2IWnlvYbas/edit?tab=t.0\n",
    "> \n",
    "> Fr 12 Sep 2025 16:36:24 BST"
   ]
  },
  {
   "cell_type": "markdown",
   "id": "b69354dd",
   "metadata": {},
   "source": [
    "The Agent Development Kit (ADK) is a framework for engineering agentic systems, providing a structured environment for defining an agent's capabilities and behaviours. In contrast to architectures based on explicit computational graphs, routing within the ADK paradigm is typically implemented by defining a discrete set of \"tools\" that represent the agent's functions. The selection of the appropriate tool in response to a user query is managed by the framework's internal logic, which leverages an underlying model to match user intent to the correct functional handler.\n",
    "\n",
    "This Python code demonstrates an example of an Agent Development Kit (ADK) application using Google's ADK library. It sets up a \"Coordinator\" agent that routes user requests to specialized sub-agents (\"Booker\" for bookings and \"Info\" for general information) based on defined instructions. The sub-agents then use specific tools to simulate handling the requests, showcasing a basic delegation pattern within an agent system. \n"
   ]
  },
  {
   "cell_type": "code",
   "execution_count": null,
   "id": "c308e948",
   "metadata": {},
   "outputs": [],
   "source": [
    "# Copyright (c) 2025 Marco Fago\n",
    "#\n",
    "# This code is licensed under the MIT License.\n",
    "# See the LICENSE file in the repository for the full license text.\n",
    "\n",
    "import uuid\n",
    "from typing import Dict, Any, Optional\n",
    "\n",
    "from google.adk.agents import Agent\n",
    "from google.adk.runners import InMemoryRunner\n",
    "from google.adk.tools import FunctionTool\n",
    "from google.genai import types\n",
    "from google.adk.events import Event"
   ]
  },
  {
   "cell_type": "markdown",
   "id": "4db9adc6",
   "metadata": {},
   "source": [
    "This worked immediately, without any additional installs. "
   ]
  },
  {
   "cell_type": "code",
   "execution_count": 2,
   "id": "b07c8f6f",
   "metadata": {},
   "outputs": [],
   "source": [
    "# --- Define Tool Functions ---\n",
    "# These functions simulate the actions of the specialist agents.\n",
    "\n",
    "def booking_handler(request: str) -> str:\n",
    "    \"\"\"\n",
    "    Handles booking requests for flights and hotels.\n",
    "    Args:\n",
    "        request: The user's request for a booking.\n",
    "    Returns:\n",
    "        A confirmation message that the booking was handled.\n",
    "    \"\"\"\n",
    "    print(\"-------------------------- Booking Handler Called ----------------------------\")\n",
    "    return f\"Booking action for '{request}' has been simulated.\"\n",
    "\n",
    "def info_handler(request: str) -> str:\n",
    "    \"\"\"\n",
    "    Handles general information requests.\n",
    "    Args:\n",
    "        request: The user's question.\n",
    "    Returns:\n",
    "        A message indicating the information request was handled.\n",
    "    \"\"\"\n",
    "    print(\"-------------------------- Info Handler Called ----------------------------\")\n",
    "    return f\"Information request for '{request}'. Result: Simulated information retrieval.\"\n",
    "\n",
    "def unclear_handler(request: str) -> str:\n",
    "    \"\"\"Handles requests that couldn't be delegated.\"\"\"\n",
    "    return f\"Coordinator could not delegate request: '{request}'. Please clarify.\"\n"
   ]
  },
  {
   "cell_type": "code",
   "execution_count": 3,
   "id": "b4a21721",
   "metadata": {},
   "outputs": [],
   "source": [
    "# --- Create Tools from Functions ---\n",
    "booking_tool = FunctionTool(booking_handler)\n",
    "info_tool = FunctionTool(info_handler)\n",
    "\n",
    "# Define specialized sub-agents equipped with their respective tools\n",
    "booking_agent = Agent(\n",
    "    name=\"Booker\",\n",
    "    model=\"gemini-2.0-flash\",\n",
    "    description=\"A specialized agent that handles all flight and hotel booking requests by calling the booking tool.\",\n",
    "    tools=[booking_tool]\n",
    ")\n",
    "\n",
    "info_agent = Agent(\n",
    "    name=\"Info\",\n",
    "    model=\"gemini-2.0-flash\",\n",
    "    description=\"A specialized agent that provides general information and answers user questions by calling the info tool.\",\n",
    "    tools=[info_tool]\n",
    ")"
   ]
  },
  {
   "cell_type": "code",
   "execution_count": 4,
   "id": "8800093c",
   "metadata": {},
   "outputs": [],
   "source": [
    "# Define the parent agent with explicit delegation instructions\n",
    "coordinator = Agent(\n",
    "    name=\"Coordinator\",\n",
    "    model=\"gemini-2.0-flash\",\n",
    "    instruction=(\n",
    "        \"You are the main coordinator. Your only task is to analyze incoming user requests \"\n",
    "        \"and delegate them to the appropriate specialist agent. Do not try to answer the user directly.\\n\"\n",
    "        \"- For any requests related to booking flights or hotels, delegate to the 'Booker' agent.\\n\"\n",
    "        \"- For all other general information questions, delegate to the 'Info' agent.\"\n",
    "    ),\n",
    "    description=\"A coordinator that routes user requests to the correct specialist agent.\",\n",
    "    # The presence of sub_agents enables LLM-driven delegation (Auto-Flow) by default.\n",
    "    sub_agents=[booking_agent, info_agent]\n",
    ")"
   ]
  },
  {
   "cell_type": "code",
   "execution_count": null,
   "id": "b7a0572f",
   "metadata": {},
   "outputs": [],
   "source": [
    "# --- Execution Logic ---\n",
    "async def run_coordinator(runner: InMemoryRunner, request: str): # the async is needed as the function runner.session_service.create_session is asynchronous and must be awaited\n",
    "    \"\"\"Runs the coordinator agent with a given request and delegates.\"\"\"\n",
    "    print(f\"\\n--- Running Coordinator with request: '{request}' ---\")\n",
    "    final_result = \"\"\n",
    "    try:\n",
    "        user_id = \"user_123\"\n",
    "        session_id = str(uuid.uuid4())\n",
    "        await runner.session_service.create_session( # the function runner.session_service.create_session is asynchronous and must be awaited\n",
    "            app_name=runner.app_name, user_id=user_id, session_id=session_id\n",
    "        )\n",
    "\n",
    "        for event in runner.run(\n",
    "            user_id=user_id,\n",
    "            session_id=session_id,\n",
    "            new_message=types.Content(\n",
    "                role='user',\n",
    "                parts=[types.Part(text=request)]\n",
    "            ),\n",
    "        ):\n",
    "            if event.is_final_response() and event.content:\n",
    "                # Try to get text directly from event.content to avoid iterating parts\n",
    "                if hasattr(event.content, 'text') and event.content.text:\n",
    "                     final_result = event.content.text\n",
    "                elif event.content.parts:\n",
    "                    # Fallback: Iterate through parts and extract text (might trigger warning)\n",
    "                    text_parts = [part.text for part in event.content.parts if part.text]\n",
    "                    final_result = \"\".join(text_parts)\n",
    "                # Assuming the loop should break after the final response\n",
    "                break\n",
    "\n",
    "        print(f\"Coordinator Final Response: {final_result}\")\n",
    "        return final_result\n",
    "    except Exception as e:\n",
    "        print(f\"An error occurred while processing your request: {e}\")\n",
    "        return f\"An error occurred while processing your request: {e}\""
   ]
  },
  {
   "cell_type": "markdown",
   "id": "5d86b724",
   "metadata": {},
   "source": [
    "The function `runner.session_service.create_session` is asynchronous and must be awaited. "
   ]
  },
  {
   "cell_type": "code",
   "execution_count": null,
   "id": "19dcf8aa",
   "metadata": {},
   "outputs": [],
   "source": [
    "async def main(): # the async is needed as the function run_coordinator (and runner.session_service.create_session) is asynchronous and must be awaited\n",
    "    \"\"\"Main function to run the ADK example.\"\"\"\n",
    "    print(\"--- Google ADK Routing Example (ADK Auto-Flow Style) ---\")\n",
    "    print(\"Note: This requires Google ADK installed and authenticated.\")\n",
    "\n",
    "    runner = InMemoryRunner(coordinator)\n",
    "    # Example Usage\n",
    "    result_a = await run_coordinator(runner, \"Book me a hotel in Paris.\") # the await is needed as the function run_coordinator (and runner.session_service.create_session) is asynchronous and must be awaited\n",
    "    print(f\"Final Output A: {result_a}\")\n",
    "    result_b = await run_coordinator(runner, \"What is the highest mountain in the world?\")\n",
    "    print(f\"Final Output B: {result_b}\")\n",
    "    result_c = await run_coordinator(runner, \"Tell me a random fact.\") # Should go to Info\n",
    "    print(f\"Final Output C: {result_c}\")\n",
    "    result_d = await run_coordinator(runner, \"Find flights to Tokyo next month.\") # Should go to Booker\n",
    "    print(f\"Final Output D: {result_d}\")"
   ]
  },
  {
   "cell_type": "code",
   "execution_count": null,
   "id": "0b77abca",
   "metadata": {},
   "outputs": [
    {
     "name": "stdout",
     "output_type": "stream",
     "text": [
      "--- Google ADK Routing Example (ADK Auto-Flow Style) ---\n",
      "Note: This requires Google ADK installed and authenticated.\n",
      "\n",
      "--- Running Coordinator with request: 'Book me a hotel in Paris.' ---\n"
     ]
    },
    {
     "name": "stderr",
     "output_type": "stream",
     "text": [
      "Warning: there are non-text parts in the response: ['function_call'], returning concatenated text result from text parts. Check the full candidates.content.parts accessor to get the full model response.\n",
      "Warning: there are non-text parts in the response: ['function_call'], returning concatenated text result from text parts. Check the full candidates.content.parts accessor to get the full model response.\n"
     ]
    },
    {
     "name": "stdout",
     "output_type": "stream",
     "text": [
      "-------------------------- Booking Handler Called ----------------------------\n",
      "Coordinator Final Response: OK. I have booked a hotel for you in Paris.\n",
      "\n",
      "Final Output A: OK. I have booked a hotel for you in Paris.\n",
      "\n",
      "\n",
      "--- Running Coordinator with request: 'What is the highest mountain in the world?' ---\n"
     ]
    },
    {
     "name": "stderr",
     "output_type": "stream",
     "text": [
      "Warning: there are non-text parts in the response: ['function_call'], returning concatenated text result from text parts. Check the full candidates.content.parts accessor to get the full model response.\n",
      "Warning: there are non-text parts in the response: ['function_call'], returning concatenated text result from text parts. Check the full candidates.content.parts accessor to get the full model response.\n"
     ]
    },
    {
     "name": "stdout",
     "output_type": "stream",
     "text": [
      "-------------------------- Info Handler Called ----------------------------\n",
      "Coordinator Final Response: The highest mountain in the world is Mount Everest.\n",
      "\n",
      "Final Output B: The highest mountain in the world is Mount Everest.\n",
      "\n",
      "\n",
      "--- Running Coordinator with request: 'Tell me a random fact.' ---\n"
     ]
    },
    {
     "name": "stderr",
     "output_type": "stream",
     "text": [
      "Warning: there are non-text parts in the response: ['function_call'], returning concatenated text result from text parts. Check the full candidates.content.parts accessor to get the full model response.\n",
      "Warning: there are non-text parts in the response: ['function_call'], returning concatenated text result from text parts. Check the full candidates.content.parts accessor to get the full model response.\n"
     ]
    },
    {
     "name": "stdout",
     "output_type": "stream",
     "text": [
      "-------------------------- Info Handler Called ----------------------------\n",
      "Coordinator Final Response: Here's a random fact: A group of flamingos is called a flamboyance.\n",
      "\n",
      "Final Output C: Here's a random fact: A group of flamingos is called a flamboyance.\n",
      "\n",
      "\n",
      "--- Running Coordinator with request: 'Find flights to Tokyo next month.' ---\n"
     ]
    },
    {
     "name": "stderr",
     "output_type": "stream",
     "text": [
      "Warning: there are non-text parts in the response: ['function_call'], returning concatenated text result from text parts. Check the full candidates.content.parts accessor to get the full model response.\n",
      "Warning: there are non-text parts in the response: ['function_call'], returning concatenated text result from text parts. Check the full candidates.content.parts accessor to get the full model response.\n"
     ]
    },
    {
     "name": "stdout",
     "output_type": "stream",
     "text": [
      "-------------------------- Booking Handler Called ----------------------------\n",
      "Coordinator Final Response: OK. I have simulated a booking action for flights to Tokyo next month.\n",
      "\n",
      "Final Output D: OK. I have simulated a booking action for flights to Tokyo next month.\n",
      "\n"
     ]
    }
   ],
   "source": [
    "if __name__ == \"__main__\":\n",
    "    await main() # the await is needed as the function main (, run_coordinator, and runner.session_service.create_session) is asynchronous and must be awaited"
   ]
  },
  {
   "cell_type": "markdown",
   "id": "4415c926",
   "metadata": {},
   "source": [
    "This script consists of a main Coordinator agent and two specialized sub_agents: Booker and Info. Each specialized agent is equipped with a FunctionTool that wraps a Python function simulating an action. The booking_handler function simulates handling flight and hotel bookings, while the info_handler function simulates retrieving general information. The unclear_handler is included as a fallback for requests the coordinator cannot delegate, although the current coordinator logic doesn't explicitly use it for delegation failure in the main run_coordinator function. \n",
    "\n",
    "The Coordinator agent's primary role, as defined in its instruction, is to analyze incoming user messages and delegate them to either the Booker or Info agent. This delegation is handled automatically by the ADK's Auto-Flow mechanism because the Coordinator has sub_agents defined. The run_coordinator function sets up an InMemoryRunner, creates a user and session ID, and then uses the runner to process the user's request through the coordinator agent. The runner.run method processes the request and yields events, and the code extracts the final response text from the event.content. \n",
    "\n",
    "The main function demonstrates the system's usage by running the coordinator with different requests, showcasing how it delegates booking requests to the Booker and information requests to the Info agent.\n"
   ]
  },
  {
   "cell_type": "markdown",
   "id": "2c3850b6",
   "metadata": {},
   "source": []
  }
 ],
 "metadata": {
  "kernelspec": {
   "display_name": ".venv",
   "language": "python",
   "name": "python3"
  },
  "language_info": {
   "codemirror_mode": {
    "name": "ipython",
    "version": 3
   },
   "file_extension": ".py",
   "mimetype": "text/x-python",
   "name": "python",
   "nbconvert_exporter": "python",
   "pygments_lexer": "ipython3",
   "version": "3.13.5"
  }
 },
 "nbformat": 4,
 "nbformat_minor": 5
}
